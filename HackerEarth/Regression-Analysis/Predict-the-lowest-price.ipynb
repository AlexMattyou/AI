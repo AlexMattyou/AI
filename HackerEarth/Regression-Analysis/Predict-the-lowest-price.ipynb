{
 "cells": [
  {
   "cell_type": "code",
   "execution_count": 69,
   "metadata": {},
   "outputs": [],
   "source": [
    "import numpy as np\n",
    "import pandas as pd\n",
    "import matplotlib.pyplot as plt\n",
    "#importing basic modules"
   ]
  },
  {
   "cell_type": "code",
   "execution_count": 70,
   "metadata": {},
   "outputs": [
    {
     "name": "stdout",
     "output_type": "stream",
     "text": [
      "The train data has (9798, 9)\n",
      "<class 'pandas.core.frame.DataFrame'>\n",
      "RangeIndex: 9798 entries, 0 to 9797\n",
      "Data columns (total 9 columns):\n",
      " #   Column            Non-Null Count  Dtype  \n",
      "---  ------            --------------  -----  \n",
      " 0   Item_Id           9798 non-null   object \n",
      " 1   Date              9798 non-null   object \n",
      " 2   State_of_Country  9798 non-null   int64  \n",
      " 3   Market_Category   9798 non-null   int64  \n",
      " 4   Product_Category  9798 non-null   int64  \n",
      " 5   Grade             9798 non-null   int64  \n",
      " 6   Demand            9798 non-null   float64\n",
      " 7   Low_Cap_Price     9798 non-null   int64  \n",
      " 8   High_Cap_Price    9798 non-null   int64  \n",
      "dtypes: float64(1), int64(6), object(2)\n",
      "memory usage: 689.0+ KB\n",
      "None\n"
     ]
    }
   ],
   "source": [
    "#link given train and test data\n",
    "train = pd.read_csv('https://data.alexmattyou.repl.co/db/Predict-the-lowest-price/Train.csv')\n",
    "test = pd.read_csv('https://data.alexmattyou.repl.co/db/Predict-the-lowest-price/Test.csv')\n",
    "print(\"The train data has\",train.shape)\n",
    "print(train.info())"
   ]
  },
  {
   "cell_type": "code",
   "execution_count": 71,
   "metadata": {},
   "outputs": [
    {
     "data": {
      "text/plain": [
       "Item_Id             0\n",
       "Date                0\n",
       "State_of_Country    0\n",
       "Market_Category     0\n",
       "Product_Category    0\n",
       "Grade               0\n",
       "Demand              0\n",
       "Low_Cap_Price       0\n",
       "High_Cap_Price      0\n",
       "dtype: int64"
      ]
     },
     "execution_count": 71,
     "metadata": {},
     "output_type": "execute_result"
    }
   ],
   "source": [
    "train.isnull().sum()\n",
    "# wow no null values"
   ]
  },
  {
   "cell_type": "code",
   "execution_count": 72,
   "metadata": {},
   "outputs": [],
   "source": [
    "train['year'] = pd.DatetimeIndex(train['Date']).year\n",
    "train['month'] = pd.DatetimeIndex(train['Date']).month\n",
    "train.drop(columns=['Item_Id','Date','State_of_Country','Demand'],inplace=True)"
   ]
  },
  {
   "cell_type": "code",
   "execution_count": 73,
   "metadata": {},
   "outputs": [
    {
     "data": {
      "text/html": [
       "<div>\n",
       "<style scoped>\n",
       "    .dataframe tbody tr th:only-of-type {\n",
       "        vertical-align: middle;\n",
       "    }\n",
       "\n",
       "    .dataframe tbody tr th {\n",
       "        vertical-align: top;\n",
       "    }\n",
       "\n",
       "    .dataframe thead th {\n",
       "        text-align: right;\n",
       "    }\n",
       "</style>\n",
       "<table border=\"1\" class=\"dataframe\">\n",
       "  <thead>\n",
       "    <tr style=\"text-align: right;\">\n",
       "      <th></th>\n",
       "      <th>Market_Category</th>\n",
       "      <th>Product_Category</th>\n",
       "      <th>Grade</th>\n",
       "      <th>Low_Cap_Price</th>\n",
       "      <th>High_Cap_Price</th>\n",
       "      <th>year</th>\n",
       "      <th>month</th>\n",
       "    </tr>\n",
       "  </thead>\n",
       "  <tbody>\n",
       "    <tr>\n",
       "      <th>Market_Category</th>\n",
       "      <td>1.000000</td>\n",
       "      <td>-0.030353</td>\n",
       "      <td>-0.034454</td>\n",
       "      <td>0.198524</td>\n",
       "      <td>0.144557</td>\n",
       "      <td>-0.190729</td>\n",
       "      <td>0.115828</td>\n",
       "    </tr>\n",
       "    <tr>\n",
       "      <th>Product_Category</th>\n",
       "      <td>-0.030353</td>\n",
       "      <td>1.000000</td>\n",
       "      <td>-0.056394</td>\n",
       "      <td>0.180240</td>\n",
       "      <td>0.114415</td>\n",
       "      <td>-0.062602</td>\n",
       "      <td>0.041560</td>\n",
       "    </tr>\n",
       "    <tr>\n",
       "      <th>Grade</th>\n",
       "      <td>-0.034454</td>\n",
       "      <td>-0.056394</td>\n",
       "      <td>1.000000</td>\n",
       "      <td>-0.079639</td>\n",
       "      <td>0.171083</td>\n",
       "      <td>0.046044</td>\n",
       "      <td>-0.031837</td>\n",
       "    </tr>\n",
       "    <tr>\n",
       "      <th>Low_Cap_Price</th>\n",
       "      <td>0.198524</td>\n",
       "      <td>0.180240</td>\n",
       "      <td>-0.079639</td>\n",
       "      <td>1.000000</td>\n",
       "      <td>0.721021</td>\n",
       "      <td>0.001937</td>\n",
       "      <td>0.281381</td>\n",
       "    </tr>\n",
       "    <tr>\n",
       "      <th>High_Cap_Price</th>\n",
       "      <td>0.144557</td>\n",
       "      <td>0.114415</td>\n",
       "      <td>0.171083</td>\n",
       "      <td>0.721021</td>\n",
       "      <td>1.000000</td>\n",
       "      <td>0.151970</td>\n",
       "      <td>0.156869</td>\n",
       "    </tr>\n",
       "    <tr>\n",
       "      <th>year</th>\n",
       "      <td>-0.190729</td>\n",
       "      <td>-0.062602</td>\n",
       "      <td>0.046044</td>\n",
       "      <td>0.001937</td>\n",
       "      <td>0.151970</td>\n",
       "      <td>1.000000</td>\n",
       "      <td>-0.449247</td>\n",
       "    </tr>\n",
       "    <tr>\n",
       "      <th>month</th>\n",
       "      <td>0.115828</td>\n",
       "      <td>0.041560</td>\n",
       "      <td>-0.031837</td>\n",
       "      <td>0.281381</td>\n",
       "      <td>0.156869</td>\n",
       "      <td>-0.449247</td>\n",
       "      <td>1.000000</td>\n",
       "    </tr>\n",
       "  </tbody>\n",
       "</table>\n",
       "</div>"
      ],
      "text/plain": [
       "                  Market_Category  Product_Category     Grade  Low_Cap_Price  \\\n",
       "Market_Category          1.000000         -0.030353 -0.034454       0.198524   \n",
       "Product_Category        -0.030353          1.000000 -0.056394       0.180240   \n",
       "Grade                   -0.034454         -0.056394  1.000000      -0.079639   \n",
       "Low_Cap_Price            0.198524          0.180240 -0.079639       1.000000   \n",
       "High_Cap_Price           0.144557          0.114415  0.171083       0.721021   \n",
       "year                    -0.190729         -0.062602  0.046044       0.001937   \n",
       "month                    0.115828          0.041560 -0.031837       0.281381   \n",
       "\n",
       "                  High_Cap_Price      year     month  \n",
       "Market_Category         0.144557 -0.190729  0.115828  \n",
       "Product_Category        0.114415 -0.062602  0.041560  \n",
       "Grade                   0.171083  0.046044 -0.031837  \n",
       "Low_Cap_Price           0.721021  0.001937  0.281381  \n",
       "High_Cap_Price          1.000000  0.151970  0.156869  \n",
       "year                    0.151970  1.000000 -0.449247  \n",
       "month                   0.156869 -0.449247  1.000000  "
      ]
     },
     "execution_count": 73,
     "metadata": {},
     "output_type": "execute_result"
    }
   ],
   "source": [
    "train.corr()"
   ]
  },
  {
   "cell_type": "code",
   "execution_count": 74,
   "metadata": {},
   "outputs": [],
   "source": [
    "for x in train.columns: # class features to encode\n",
    "    if train[x].dtype == 'object':\n",
    "      print(train[x].value_counts())\n",
    "      print()\n",
    "# no object data so no need to encode"
   ]
  },
  {
   "cell_type": "code",
   "execution_count": 75,
   "metadata": {},
   "outputs": [],
   "source": [
    "# Time to train the model\n",
    "y = train['High_Cap_Price']\n",
    "del train['High_Cap_Price']\n",
    "x = train\n",
    "# train test split\n",
    "from sklearn.model_selection import train_test_split\n",
    "x_train,x_test,y_train,y_test = train_test_split(x,y,test_size=0.25,random_state=1)"
   ]
  },
  {
   "cell_type": "code",
   "execution_count": 76,
   "metadata": {},
   "outputs": [
    {
     "data": {
      "image/png": "[encoded data removed]",
      "text/plain": [
       "<Figure size 640x480 with 1 Axes>"
      ]
     },
     "metadata": {},
     "output_type": "display_data"
    }
   ],
   "source": [
    "# using Random Forest Regressor\n",
    "from sklearn.ensemble import RandomForestRegressor\n",
    "alg = RandomForestRegressor(n_estimators = 100, random_state = 7)\n",
    "alg.fit(x, y)\n",
    "\n",
    "y_predicted = alg.predict(x_test) # trained model\n",
    "fig, ax = plt.subplots()\n",
    "ax.scatter(y_predicted, y_test, edgecolors=(0, 0, 1))\n",
    "ax.plot([y_test.min(), y_test.max()], [y_test.min(), y_test.max()], 'r--', lw=3)\n",
    "ax.set_xlabel('Predicted')\n",
    "ax.set_ylabel('Actual')\n",
    "plt.show()"
   ]
  },
  {
   "cell_type": "code",
   "execution_count": 77,
   "metadata": {},
   "outputs": [
    {
     "name": "stdout",
     "output_type": "stream",
     "text": [
      "The model performance for testing set\n",
      "--------------------------------------\n",
      "MAE is 312.4205548688047\n",
      "MSE is 341933.32660434744\n",
      "R2 score is 0.9758581787036602\n"
     ]
    }
   ],
   "source": [
    "from sklearn import metrics\n",
    "mae = metrics.mean_absolute_error(y_test, y_predicted)\n",
    "mse = metrics.mean_squared_error(y_test, y_predicted)\n",
    "r2 = metrics.r2_score(y_test, y_predicted)\n",
    "\n",
    "print(\"The model performance for testing set\\n--------------------------------------\")\n",
    "print('MAE is {}'.format(mae))\n",
    "print('MSE is {}'.format(mse))\n",
    "print('R2 score is {}'.format(r2)) # got 93.21% of accuracy\n",
    "# good but not best"
   ]
  },
  {
   "cell_type": "code",
   "execution_count": 78,
   "metadata": {},
   "outputs": [
    {
     "name": "stdout",
     "output_type": "stream",
     "text": [
      "The test data has (5763, 8)\n",
      "Item_Id             0\n",
      "Date                0\n",
      "State_of_Country    0\n",
      "Market_Category     0\n",
      "Product_Category    0\n",
      "Grade               0\n",
      "Demand              0\n",
      "High_Cap_Price      0\n",
      "dtype: int64\n"
     ]
    }
   ],
   "source": [
    "# gonna find out values for test\n",
    "print(\"The test data has\",test.shape)\n",
    "print(test.isnull().sum())"
   ]
  },
  {
   "cell_type": "code",
   "execution_count": 79,
   "metadata": {},
   "outputs": [],
   "source": [
    "id = pd.DataFrame(test.Item_Id.copy(),columns=['Item_Id']) # extracting id\n",
    "\n",
    "test['year'] = pd.DatetimeIndex(test['Date']).year\n",
    "test['month'] = pd.DatetimeIndex(test['Date']).month\n",
    "test.drop(columns=['Item_Id','Date','State_of_Country','Demand'],inplace=True)"
   ]
  },
  {
   "cell_type": "code",
   "execution_count": 80,
   "metadata": {},
   "outputs": [
    {
     "name": "stderr",
     "output_type": "stream",
     "text": [
      "c:\\Users\\alexm\\AppData\\Local\\Programs\\Python\\Python310\\lib\\site-packages\\sklearn\\base.py:493: FutureWarning: The feature names should match those that were passed during fit. Starting version 1.2, an error will be raised.\n",
      "Feature names unseen at fit time:\n",
      "- High_Cap_Price\n",
      "Feature names seen at fit time, yet now missing:\n",
      "- Low_Cap_Price\n",
      "\n",
      "  warnings.warn(message, FutureWarning)\n"
     ]
    },
    {
     "data": {
      "text/html": [
       "<div>\n",
       "<style scoped>\n",
       "    .dataframe tbody tr th:only-of-type {\n",
       "        vertical-align: middle;\n",
       "    }\n",
       "\n",
       "    .dataframe tbody tr th {\n",
       "        vertical-align: top;\n",
       "    }\n",
       "\n",
       "    .dataframe thead th {\n",
       "        text-align: right;\n",
       "    }\n",
       "</style>\n",
       "<table border=\"1\" class=\"dataframe\">\n",
       "  <thead>\n",
       "    <tr style=\"text-align: right;\">\n",
       "      <th></th>\n",
       "      <th>Item_Id</th>\n",
       "      <th>Low_Cap_Price</th>\n",
       "    </tr>\n",
       "  </thead>\n",
       "  <tbody>\n",
       "    <tr>\n",
       "      <th>0</th>\n",
       "      <td>IT_265079</td>\n",
       "      <td>11773.223333</td>\n",
       "    </tr>\n",
       "    <tr>\n",
       "      <th>1</th>\n",
       "      <td>IT_265087</td>\n",
       "      <td>17222.260000</td>\n",
       "    </tr>\n",
       "    <tr>\n",
       "      <th>2</th>\n",
       "      <td>IT_265107</td>\n",
       "      <td>24314.230000</td>\n",
       "    </tr>\n",
       "    <tr>\n",
       "      <th>3</th>\n",
       "      <td>IT_265139</td>\n",
       "      <td>24254.320000</td>\n",
       "    </tr>\n",
       "    <tr>\n",
       "      <th>4</th>\n",
       "      <td>IT_265142</td>\n",
       "      <td>11789.200000</td>\n",
       "    </tr>\n",
       "    <tr>\n",
       "      <th>...</th>\n",
       "      <td>...</td>\n",
       "      <td>...</td>\n",
       "    </tr>\n",
       "    <tr>\n",
       "      <th>5758</th>\n",
       "      <td>IT_361691</td>\n",
       "      <td>17489.280000</td>\n",
       "    </tr>\n",
       "    <tr>\n",
       "      <th>5759</th>\n",
       "      <td>IT_361694</td>\n",
       "      <td>16194.650000</td>\n",
       "    </tr>\n",
       "    <tr>\n",
       "      <th>5760</th>\n",
       "      <td>IT_361699</td>\n",
       "      <td>15624.090000</td>\n",
       "    </tr>\n",
       "    <tr>\n",
       "      <th>5761</th>\n",
       "      <td>IT_361719</td>\n",
       "      <td>11421.000000</td>\n",
       "    </tr>\n",
       "    <tr>\n",
       "      <th>5762</th>\n",
       "      <td>IT_361723</td>\n",
       "      <td>17273.500000</td>\n",
       "    </tr>\n",
       "  </tbody>\n",
       "</table>\n",
       "<p>5763 rows × 2 columns</p>\n",
       "</div>"
      ],
      "text/plain": [
       "        Item_Id  Low_Cap_Price\n",
       "0     IT_265079   11773.223333\n",
       "1     IT_265087   17222.260000\n",
       "2     IT_265107   24314.230000\n",
       "3     IT_265139   24254.320000\n",
       "4     IT_265142   11789.200000\n",
       "...         ...            ...\n",
       "5758  IT_361691   17489.280000\n",
       "5759  IT_361694   16194.650000\n",
       "5760  IT_361699   15624.090000\n",
       "5761  IT_361719   11421.000000\n",
       "5762  IT_361723   17273.500000\n",
       "\n",
       "[5763 rows x 2 columns]"
      ]
     },
     "execution_count": 80,
     "metadata": {},
     "output_type": "execute_result"
    }
   ],
   "source": [
    "Low_Cap_Price = pd.DataFrame(alg.predict(test),columns=['Low_Cap_Price'])\n",
    "#applying the model for test dataset to predict Burn_Rate\n",
    "\n",
    "#merge id and target for submition\n",
    "output = pd.concat([id, Low_Cap_Price], axis=1)\n",
    "output"
   ]
  },
  {
   "cell_type": "code",
   "execution_count": null,
   "metadata": {},
   "outputs": [],
   "source": [
    "output.to_csv(r'D:/Data/csv-Output/Result.csv', index=False)"
   ]
  }
 ],
 "metadata": {
  "kernelspec": {
   "display_name": "Python 3",
   "language": "python",
   "name": "python3"
  },
  "language_info": {
   "codemirror_mode": {
    "name": "ipython",
    "version": 3
   },
   "file_extension": ".py",
   "mimetype": "text/x-python",
   "name": "python",
   "nbconvert_exporter": "python",
   "pygments_lexer": "ipython3",
   "version": "3.10.5"
  },
  "orig_nbformat": 4,
  "vscode": {
   "interpreter": {
    "hash": "9cba196fd95038b792069c4c13deb95aa682591ebee981b4ab7f9261a972a9d4"
   }
  }
 },
 "nbformat": 4,
 "nbformat_minor": 2
}
