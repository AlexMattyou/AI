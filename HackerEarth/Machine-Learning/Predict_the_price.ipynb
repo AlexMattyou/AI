{
  "nbformat": 4,
  "nbformat_minor": 0,
  "metadata": {
    "colab": {
      "provenance": [],
      "authorship_tag": "ABX9TyOqOdYRKq57P043IDafKIrl",
      "include_colab_link": true
    },
    "kernelspec": {
      "name": "python3",
      "display_name": "Python 3"
    },
    "language_info": {
      "name": "python"
    }
  },
  "cells": [
    {
      "cell_type": "markdown",
      "metadata": {
        "id": "view-in-github",
        "colab_type": "text"
      },
      "source": [
        "<a href=\"https://colab.research.google.com/github/AlexMattyou/ProblemSolving/blob/main/HackerEarth/Machine-Learning/Predict_the_price.ipynb\" target=\"_parent\"><img src=\"https://colab.research.google.com/assets/colab-badge.svg\" alt=\"Open In Colab\"/></a>"
      ]
    },
    {
      "cell_type": "code",
      "execution_count": 2,
      "metadata": {
        "id": "2y9SYQtYNkz3"
      },
      "outputs": [],
      "source": [
        "import numpy as np\n",
        "import pandas as pd\n",
        "import matplotlib.pyplot as plt\n",
        "#importing basic modules"
      ]
    },
    {
      "cell_type": "code",
      "source": [
        "#link given train and test data\n",
        "train = pd.read_csv('https://data.alexmattyou.repl.co/db/Predict-the-price/train.csv')\n",
        "test = pd.read_csv('https://data.alexmattyou.repl.co/db/Predict-the-price/test.csv')\n",
        "print(\"The train data has\",train.shape)\n",
        "print(train.info())"
      ],
      "metadata": {
        "id": "FqLH1fgHN03H",
        "colab": {
          "base_uri": "https://localhost:8080/"
        },
        "outputId": "61bcbcd7-1629-456f-d444-b5064df47393"
      },
      "execution_count": 3,
      "outputs": [
        {
          "output_type": "stream",
          "name": "stdout",
          "text": [
            "The train data has (6368, 15)\n",
            "<class 'pandas.core.frame.DataFrame'>\n",
            "RangeIndex: 6368 entries, 0 to 6367\n",
            "Data columns (total 15 columns):\n",
            " #   Column            Non-Null Count  Dtype  \n",
            "---  ------            --------------  -----  \n",
            " 0   Product_id        6368 non-null   object \n",
            " 1   Stall_no          6363 non-null   float64\n",
            " 2   instock_date      6368 non-null   object \n",
            " 3   Market_Category   6368 non-null   int64  \n",
            " 4   Customer_name     6157 non-null   object \n",
            " 5   Loyalty_customer  6368 non-null   object \n",
            " 6   Product_Category  6368 non-null   object \n",
            " 7   Grade             6368 non-null   int64  \n",
            " 8   Demand            6368 non-null   int64  \n",
            " 9   Discount_avail    6330 non-null   float64\n",
            " 10  charges_1         6170 non-null   float64\n",
            " 11  charges_2         6163 non-null   float64\n",
            " 12  Minimum_price     6330 non-null   float64\n",
            " 13  Maximum_price     6025 non-null   float64\n",
            " 14  Selling_Price     6327 non-null   float64\n",
            "dtypes: float64(7), int64(3), object(5)\n",
            "memory usage: 746.4+ KB\n",
            "None\n"
          ]
        }
      ]
    },
    {
      "cell_type": "code",
      "source": [
        "train.isnull().sum() # null values are found in 8 features"
      ],
      "metadata": {
        "id": "npGR-39uQEvW",
        "colab": {
          "base_uri": "https://localhost:8080/"
        },
        "outputId": "a8f4310a-723f-4eda-8777-bfb45f12de7c"
      },
      "execution_count": 4,
      "outputs": [
        {
          "output_type": "execute_result",
          "data": {
            "text/plain": [
              "Product_id            0\n",
              "Stall_no              5\n",
              "instock_date          0\n",
              "Market_Category       0\n",
              "Customer_name       211\n",
              "Loyalty_customer      0\n",
              "Product_Category      0\n",
              "Grade                 0\n",
              "Demand                0\n",
              "Discount_avail       38\n",
              "charges_1           198\n",
              "charges_2           205\n",
              "Minimum_price        38\n",
              "Maximum_price       343\n",
              "Selling_Price        41\n",
              "dtype: int64"
            ]
          },
          "metadata": {},
          "execution_count": 4
        }
      ]
    },
    {
      "cell_type": "code",
      "source": [
        "train.Stall_no.value_counts()\n",
        "train.Stall_no.fillna(0.0,inplace=True) #Stall_no is categorical data, so I'm gonna simply put 0.0 for null values\n",
        "\n",
        "train.Discount_avail.value_counts() # majarity is 0.0 so adding it for null\n",
        "train.Discount_avail.fillna(0.0,inplace=True)\n",
        "\n",
        " # filling with mean\n",
        "train.charges_1.fillna(float(int(np.mean(train.charges_1))),inplace=True)\n",
        "train.charges_2.fillna(float(int(np.mean(train.charges_2))),inplace=True)\n",
        "train.Minimum_price.fillna(float(int(np.mean(train.Minimum_price))),inplace=True)\n",
        "\n",
        "train.drop(columns=['Customer_name','Product_id'],inplace=True)\n",
        "\n",
        "train = train.dropna()# price values are important so droping null values\n",
        "print(train.isnull().sum()) # all null values are cleared"
      ],
      "metadata": {
        "id": "Qazi1_WrQvjF",
        "colab": {
          "base_uri": "https://localhost:8080/"
        },
        "outputId": "4ab6ece6-d13b-4ca4-85bf-3ce895d095a4"
      },
      "execution_count": 5,
      "outputs": [
        {
          "output_type": "stream",
          "name": "stdout",
          "text": [
            "Stall_no            0\n",
            "instock_date        0\n",
            "Market_Category     0\n",
            "Loyalty_customer    0\n",
            "Product_Category    0\n",
            "Grade               0\n",
            "Demand              0\n",
            "Discount_avail      0\n",
            "charges_1           0\n",
            "charges_2           0\n",
            "Minimum_price       0\n",
            "Maximum_price       0\n",
            "Selling_Price       0\n",
            "dtype: int64\n"
          ]
        }
      ]
    },
    {
      "cell_type": "code",
      "source": [
        "# Time to train the model\n",
        "from sklearn import preprocessing\n",
        "\n",
        "for x in train.columns: # encoding class lables to int\n",
        "    if train[x].dtype == 'object':\n",
        "        lbl = preprocessing.LabelEncoder()\n",
        "        lbl.fit(list(train[x].values))\n",
        "        train[x] = lbl.transform(list(train[x].values))\n",
        "\n",
        "y = train['Selling_Price']\n",
        "del train['Selling_Price']\n",
        "x = train\n",
        "# train test split\n",
        "from sklearn.model_selection import train_test_split\n",
        "x_train,x_test,y_train,y_test = train_test_split(x,y,test_size=0.25,random_state=1)"
      ],
      "metadata": {
        "id": "9R6vJaVIabTh"
      },
      "execution_count": 6,
      "outputs": []
    },
    {
      "cell_type": "code",
      "source": [
        "# I'm using Decision Tree Regressor\n",
        "from sklearn.tree import DecisionTreeRegressor\n",
        "clf = DecisionTreeRegressor(random_state = 30)\n",
        "clf.fit(x_train,y_train)\n",
        "\n",
        "y_predicted = clf.predict(x_test) # trained model\n",
        "fig, ax = plt.subplots()\n",
        "ax.scatter(y_predicted, y_test, edgecolors=(0, 0, 1))\n",
        "ax.plot([y_test.min(), y_test.max()], [y_test.min(), y_test.max()], 'r--', lw=3)\n",
        "ax.set_xlabel('Predicted')\n",
        "ax.set_ylabel('Actual')\n",
        "plt.show() #graph shows that there are some outlayers, I just leave it. hehe"
      ],
      "metadata": {
        "colab": {
          "base_uri": "https://localhost:8080/",
          "height": 279
        },
        "id": "DbJjcoQSeOmZ",
        "outputId": "1f2a103c-9c92-42d5-b778-36f781edb094"
      },
      "execution_count": 7,
      "outputs": [
        {
          "output_type": "display_data",
          "data": {
            "text/plain": [
              "<Figure size 432x288 with 1 Axes>"
            ],
            "image/png": "[encoded data removed]"
          },
          "metadata": {
            "needs_background": "light"
          }
        }
      ]
    },
    {
      "cell_type": "code",
      "source": [
        "from sklearn import metrics\n",
        "mae = metrics.mean_absolute_error(y_test, y_predicted)\n",
        "mse = metrics.mean_squared_error(y_test, y_predicted)\n",
        "r2 = metrics.r2_score(y_test, y_predicted)\n",
        "\n",
        "print(\"The model performance for testing set\\n--------------------------------------\")\n",
        "print('MAE is {}'.format(mae)) # average predicted price is less than average selling price\n",
        "print('MSE is {}'.format(mse))\n",
        "print('R2 score is {}'.format(r2*100)) # got 94% of accuracy\n",
        "# good but not best"
      ],
      "metadata": {
        "colab": {
          "base_uri": "https://localhost:8080/"
        },
        "id": "kdBcCr3ghAtN",
        "outputId": "c4c5693a-749d-4dba-dc54-2e906f44acf5"
      },
      "execution_count": 8,
      "outputs": [
        {
          "output_type": "stream",
          "name": "stdout",
          "text": [
            "The model performance for testing set\n",
            "--------------------------------------\n",
            "MAE is 184.85446017715432\n",
            "MSE is 533793.3498449436\n",
            "R2 score is 94.2441737529626\n"
          ]
        }
      ]
    },
    {
      "cell_type": "code",
      "source": [
        "# gonna find out values for test\n",
        "print(\"The test data has\",test.shape)\n",
        "print(test.isnull().sum())"
      ],
      "metadata": {
        "colab": {
          "base_uri": "https://localhost:8080/"
        },
        "id": "ARZ2y2LG1AfE",
        "outputId": "a8d6eb6b-b38c-4468-9c94-2939a574d2de"
      },
      "execution_count": 9,
      "outputs": [
        {
          "output_type": "stream",
          "name": "stdout",
          "text": [
            "The test data has (3430, 14)\n",
            "Product_id           0\n",
            "Stall_no             1\n",
            "instock_date         0\n",
            "Market_Category      0\n",
            "Customer_name       53\n",
            "Loyalty_customer     0\n",
            "Product_Category     0\n",
            "Grade                0\n",
            "Demand               0\n",
            "Discount_avail       0\n",
            "charges_1           36\n",
            "charges_2            5\n",
            "Minimum_price       14\n",
            "Maximum_price        0\n",
            "dtype: int64\n"
          ]
        }
      ]
    },
    {
      "cell_type": "code",
      "source": [
        "# Replacing and removing null values as before\n",
        "test.Stall_no.fillna(0.0,inplace=True)\n",
        "test.Discount_avail.fillna(0.0,inplace=True)\n",
        "test.charges_1.fillna(float(int(np.mean(train.charges_1))),inplace=True) # filling with mean\n",
        "test.charges_2.fillna(float(int(np.mean(train.charges_2))),inplace=True)\n",
        "test.Minimum_price.fillna(float(int(np.mean(train.Minimum_price))),inplace=True)\n",
        "\n",
        "Product_id = test.Product_id.copy() # series of Product_id\n",
        "\n",
        "test.drop(columns=['Customer_name','Product_id'],inplace=True)\n",
        "\n",
        "print(train.isnull().sum())\n",
        "\n",
        "for x in test.columns: # encoding\n",
        "    if test[x].dtype == 'object':\n",
        "        lbl = preprocessing.LabelEncoder()\n",
        "        lbl.fit(list(test[x].values))\n",
        "        test[x] = lbl.transform(list(test[x].values))"
      ],
      "metadata": {
        "colab": {
          "base_uri": "https://localhost:8080/"
        },
        "id": "t6oCh5UfSLKk",
        "outputId": "8c3d630a-c0cb-4940-c473-af46892780f5"
      },
      "execution_count": 10,
      "outputs": [
        {
          "output_type": "stream",
          "name": "stdout",
          "text": [
            "Stall_no            0\n",
            "instock_date        0\n",
            "Market_Category     0\n",
            "Loyalty_customer    0\n",
            "Product_Category    0\n",
            "Grade               0\n",
            "Demand              0\n",
            "Discount_avail      0\n",
            "charges_1           0\n",
            "charges_2           0\n",
            "Minimum_price       0\n",
            "Maximum_price       0\n",
            "dtype: int64\n"
          ]
        }
      ]
    },
    {
      "cell_type": "code",
      "source": [
        "Selling_Price = pd.DataFrame(clf.predict(test))\n",
        "#applying the model for test dataset to predict Selling_Price\n",
        "\n",
        "#merge Product_id and Selling_Price\n",
        "output = pd.concat([Product_id, Selling_Price], axis=1)\n",
        "output.iloc[:,-1][output.iloc[:,-1] < 0] = 0\n",
        "output"
      ],
      "metadata": {
        "colab": {
          "base_uri": "https://localhost:8080/",
          "height": 510
        },
        "id": "zbmIFS9_iplv",
        "outputId": "bc2fb626-c3b1-4460-f9db-32fc96026441"
      },
      "execution_count": 11,
      "outputs": [
        {
          "output_type": "stream",
          "name": "stderr",
          "text": [
            "<ipython-input-11-1b041e8842d5>:6: SettingWithCopyWarning: \n",
            "A value is trying to be set on a copy of a slice from a DataFrame\n",
            "\n",
            "See the caveats in the documentation: https://pandas.pydata.org/pandas-docs/stable/user_guide/indexing.html#returning-a-view-versus-a-copy\n",
            "  output.iloc[:,-1][output.iloc[:,-1] < 0] = 0\n"
          ]
        },
        {
          "output_type": "execute_result",
          "data": {
            "text/plain": [
              "            Product_id             0\n",
              "0     SCHE4YSTDVPVZVXW   3301.335975\n",
              "1     ACCEGCATKHNRXUHW   2095.193050\n",
              "2     NKCE6GJ5XVJDXNNZ  10787.451136\n",
              "3     NKCEB8BK3ZXDHDHM   9287.764200\n",
              "4     TOPEFDXSAHRNPF94   5191.234048\n",
              "...                ...           ...\n",
              "3425  BBAE9K7BXFUTDNBK   4012.548705\n",
              "3426  RTRDYPA4PJHCJCGF   9043.558416\n",
              "3427  TUNE8FWQBS7TVVT7   5037.605100\n",
              "3428  NKCEGMUABCRGUZPE   3305.491200\n",
              "3429  RNGE7M92KAQWUBCS   1003.411649\n",
              "\n",
              "[3430 rows x 2 columns]"
            ],
            "text/html": [
              "\n",
              "  <div id=\"df-edae3505-fca6-43d5-b3a0-11917bd28a53\">\n",
              "    <div class=\"colab-df-container\">\n",
              "      <div>\n",
              "<style scoped>\n",
              "    .dataframe tbody tr th:only-of-type {\n",
              "        vertical-align: middle;\n",
              "    }\n",
              "\n",
              "    .dataframe tbody tr th {\n",
              "        vertical-align: top;\n",
              "    }\n",
              "\n",
              "    .dataframe thead th {\n",
              "        text-align: right;\n",
              "    }\n",
              "</style>\n",
              "<table border=\"1\" class=\"dataframe\">\n",
              "  <thead>\n",
              "    <tr style=\"text-align: right;\">\n",
              "      <th></th>\n",
              "      <th>Product_id</th>\n",
              "      <th>0</th>\n",
              "    </tr>\n",
              "  </thead>\n",
              "  <tbody>\n",
              "    <tr>\n",
              "      <th>0</th>\n",
              "      <td>SCHE4YSTDVPVZVXW</td>\n",
              "      <td>3301.335975</td>\n",
              "    </tr>\n",
              "    <tr>\n",
              "      <th>1</th>\n",
              "      <td>ACCEGCATKHNRXUHW</td>\n",
              "      <td>2095.193050</td>\n",
              "    </tr>\n",
              "    <tr>\n",
              "      <th>2</th>\n",
              "      <td>NKCE6GJ5XVJDXNNZ</td>\n",
              "      <td>10787.451136</td>\n",
              "    </tr>\n",
              "    <tr>\n",
              "      <th>3</th>\n",
              "      <td>NKCEB8BK3ZXDHDHM</td>\n",
              "      <td>9287.764200</td>\n",
              "    </tr>\n",
              "    <tr>\n",
              "      <th>4</th>\n",
              "      <td>TOPEFDXSAHRNPF94</td>\n",
              "      <td>5191.234048</td>\n",
              "    </tr>\n",
              "    <tr>\n",
              "      <th>...</th>\n",
              "      <td>...</td>\n",
              "      <td>...</td>\n",
              "    </tr>\n",
              "    <tr>\n",
              "      <th>3425</th>\n",
              "      <td>BBAE9K7BXFUTDNBK</td>\n",
              "      <td>4012.548705</td>\n",
              "    </tr>\n",
              "    <tr>\n",
              "      <th>3426</th>\n",
              "      <td>RTRDYPA4PJHCJCGF</td>\n",
              "      <td>9043.558416</td>\n",
              "    </tr>\n",
              "    <tr>\n",
              "      <th>3427</th>\n",
              "      <td>TUNE8FWQBS7TVVT7</td>\n",
              "      <td>5037.605100</td>\n",
              "    </tr>\n",
              "    <tr>\n",
              "      <th>3428</th>\n",
              "      <td>NKCEGMUABCRGUZPE</td>\n",
              "      <td>3305.491200</td>\n",
              "    </tr>\n",
              "    <tr>\n",
              "      <th>3429</th>\n",
              "      <td>RNGE7M92KAQWUBCS</td>\n",
              "      <td>1003.411649</td>\n",
              "    </tr>\n",
              "  </tbody>\n",
              "</table>\n",
              "<p>3430 rows × 2 columns</p>\n",
              "</div>\n",
              "      <button class=\"colab-df-convert\" onclick=\"convertToInteractive('df-edae3505-fca6-43d5-b3a0-11917bd28a53')\"\n",
              "              title=\"Convert this dataframe to an interactive table.\"\n",
              "              style=\"display:none;\">\n",
              "        \n",
              "  <svg xmlns=\"http://www.w3.org/2000/svg\" height=\"24px\"viewBox=\"0 0 24 24\"\n",
              "       width=\"24px\">\n",
              "    <path d=\"M0 0h24v24H0V0z\" fill=\"none\"/>\n",
              "    <path d=\"M18.56 5.44l.94 2.06.94-2.06 2.06-.94-2.06-.94-.94-2.06-.94 2.06-2.06.94zm-11 1L8.5 8.5l.94-2.06 2.06-.94-2.06-.94L8.5 2.5l-.94 2.06-2.06.94zm10 10l.94 2.06.94-2.06 2.06-.94-2.06-.94-.94-2.06-.94 2.06-2.06.94z\"/><path d=\"M17.41 7.96l-1.37-1.37c-.4-.4-.92-.59-1.43-.59-.52 0-1.04.2-1.43.59L10.3 9.45l-7.72 7.72c-.78.78-.78 2.05 0 2.83L4 21.41c.39.39.9.59 1.41.59.51 0 1.02-.2 1.41-.59l7.78-7.78 2.81-2.81c.8-.78.8-2.07 0-2.86zM5.41 20L4 18.59l7.72-7.72 1.47 1.35L5.41 20z\"/>\n",
              "  </svg>\n",
              "      </button>\n",
              "      \n",
              "  <style>\n",
              "    .colab-df-container {\n",
              "      display:flex;\n",
              "      flex-wrap:wrap;\n",
              "      gap: 12px;\n",
              "    }\n",
              "\n",
              "    .colab-df-convert {\n",
              "      background-color: #E8F0FE;\n",
              "      border: none;\n",
              "      border-radius: 50%;\n",
              "      cursor: pointer;\n",
              "      display: none;\n",
              "      fill: #1967D2;\n",
              "      height: 32px;\n",
              "      padding: 0 0 0 0;\n",
              "      width: 32px;\n",
              "    }\n",
              "\n",
              "    .colab-df-convert:hover {\n",
              "      background-color: #E2EBFA;\n",
              "      box-shadow: 0px 1px 2px rgba(60, 64, 67, 0.3), 0px 1px 3px 1px rgba(60, 64, 67, 0.15);\n",
              "      fill: #174EA6;\n",
              "    }\n",
              "\n",
              "    [theme=dark] .colab-df-convert {\n",
              "      background-color: #3B4455;\n",
              "      fill: #D2E3FC;\n",
              "    }\n",
              "\n",
              "    [theme=dark] .colab-df-convert:hover {\n",
              "      background-color: #434B5C;\n",
              "      box-shadow: 0px 1px 3px 1px rgba(0, 0, 0, 0.15);\n",
              "      filter: drop-shadow(0px 1px 2px rgba(0, 0, 0, 0.3));\n",
              "      fill: #FFFFFF;\n",
              "    }\n",
              "  </style>\n",
              "\n",
              "      <script>\n",
              "        const buttonEl =\n",
              "          document.querySelector('#df-edae3505-fca6-43d5-b3a0-11917bd28a53 button.colab-df-convert');\n",
              "        buttonEl.style.display =\n",
              "          google.colab.kernel.accessAllowed ? 'block' : 'none';\n",
              "\n",
              "        async function convertToInteractive(key) {\n",
              "          const element = document.querySelector('#df-edae3505-fca6-43d5-b3a0-11917bd28a53');\n",
              "          const dataTable =\n",
              "            await google.colab.kernel.invokeFunction('convertToInteractive',\n",
              "                                                     [key], {});\n",
              "          if (!dataTable) return;\n",
              "\n",
              "          const docLinkHtml = 'Like what you see? Visit the ' +\n",
              "            '<a target=\"_blank\" href=https://colab.research.google.com/notebooks/data_table.ipynb>data table notebook</a>'\n",
              "            + ' to learn more about interactive tables.';\n",
              "          element.innerHTML = '';\n",
              "          dataTable['output_type'] = 'display_data';\n",
              "          await google.colab.output.renderOutput(dataTable, element);\n",
              "          const docLink = document.createElement('div');\n",
              "          docLink.innerHTML = docLinkHtml;\n",
              "          element.appendChild(docLink);\n",
              "        }\n",
              "      </script>\n",
              "    </div>\n",
              "  </div>\n",
              "  "
            ]
          },
          "metadata": {},
          "execution_count": 11
        }
      ]
    },
    {
      "cell_type": "code",
      "source": [
        "#converting to csv file (required to submit)\n",
        "output.to_csv('Selling_Price.csv',index=False)\n",
        "output"
      ],
      "metadata": {
        "colab": {
          "base_uri": "https://localhost:8080/",
          "height": 424
        },
        "id": "P48mu7JdjuAT",
        "outputId": "594d08f3-8408-4909-bdaf-67b7b79e30d2"
      },
      "execution_count": 12,
      "outputs": [
        {
          "output_type": "execute_result",
          "data": {
            "text/plain": [
              "            Product_id             0\n",
              "0     SCHE4YSTDVPVZVXW   3301.335975\n",
              "1     ACCEGCATKHNRXUHW   2095.193050\n",
              "2     NKCE6GJ5XVJDXNNZ  10787.451136\n",
              "3     NKCEB8BK3ZXDHDHM   9287.764200\n",
              "4     TOPEFDXSAHRNPF94   5191.234048\n",
              "...                ...           ...\n",
              "3425  BBAE9K7BXFUTDNBK   4012.548705\n",
              "3426  RTRDYPA4PJHCJCGF   9043.558416\n",
              "3427  TUNE8FWQBS7TVVT7   5037.605100\n",
              "3428  NKCEGMUABCRGUZPE   3305.491200\n",
              "3429  RNGE7M92KAQWUBCS   1003.411649\n",
              "\n",
              "[3430 rows x 2 columns]"
            ],
            "text/html": [
              "\n",
              "  <div id=\"df-e5c1f7e8-97c6-4c76-98a7-02f32bbd4574\">\n",
              "    <div class=\"colab-df-container\">\n",
              "      <div>\n",
              "<style scoped>\n",
              "    .dataframe tbody tr th:only-of-type {\n",
              "        vertical-align: middle;\n",
              "    }\n",
              "\n",
              "    .dataframe tbody tr th {\n",
              "        vertical-align: top;\n",
              "    }\n",
              "\n",
              "    .dataframe thead th {\n",
              "        text-align: right;\n",
              "    }\n",
              "</style>\n",
              "<table border=\"1\" class=\"dataframe\">\n",
              "  <thead>\n",
              "    <tr style=\"text-align: right;\">\n",
              "      <th></th>\n",
              "      <th>Product_id</th>\n",
              "      <th>0</th>\n",
              "    </tr>\n",
              "  </thead>\n",
              "  <tbody>\n",
              "    <tr>\n",
              "      <th>0</th>\n",
              "      <td>SCHE4YSTDVPVZVXW</td>\n",
              "      <td>3301.335975</td>\n",
              "    </tr>\n",
              "    <tr>\n",
              "      <th>1</th>\n",
              "      <td>ACCEGCATKHNRXUHW</td>\n",
              "      <td>2095.193050</td>\n",
              "    </tr>\n",
              "    <tr>\n",
              "      <th>2</th>\n",
              "      <td>NKCE6GJ5XVJDXNNZ</td>\n",
              "      <td>10787.451136</td>\n",
              "    </tr>\n",
              "    <tr>\n",
              "      <th>3</th>\n",
              "      <td>NKCEB8BK3ZXDHDHM</td>\n",
              "      <td>9287.764200</td>\n",
              "    </tr>\n",
              "    <tr>\n",
              "      <th>4</th>\n",
              "      <td>TOPEFDXSAHRNPF94</td>\n",
              "      <td>5191.234048</td>\n",
              "    </tr>\n",
              "    <tr>\n",
              "      <th>...</th>\n",
              "      <td>...</td>\n",
              "      <td>...</td>\n",
              "    </tr>\n",
              "    <tr>\n",
              "      <th>3425</th>\n",
              "      <td>BBAE9K7BXFUTDNBK</td>\n",
              "      <td>4012.548705</td>\n",
              "    </tr>\n",
              "    <tr>\n",
              "      <th>3426</th>\n",
              "      <td>RTRDYPA4PJHCJCGF</td>\n",
              "      <td>9043.558416</td>\n",
              "    </tr>\n",
              "    <tr>\n",
              "      <th>3427</th>\n",
              "      <td>TUNE8FWQBS7TVVT7</td>\n",
              "      <td>5037.605100</td>\n",
              "    </tr>\n",
              "    <tr>\n",
              "      <th>3428</th>\n",
              "      <td>NKCEGMUABCRGUZPE</td>\n",
              "      <td>3305.491200</td>\n",
              "    </tr>\n",
              "    <tr>\n",
              "      <th>3429</th>\n",
              "      <td>RNGE7M92KAQWUBCS</td>\n",
              "      <td>1003.411649</td>\n",
              "    </tr>\n",
              "  </tbody>\n",
              "</table>\n",
              "<p>3430 rows × 2 columns</p>\n",
              "</div>\n",
              "      <button class=\"colab-df-convert\" onclick=\"convertToInteractive('df-e5c1f7e8-97c6-4c76-98a7-02f32bbd4574')\"\n",
              "              title=\"Convert this dataframe to an interactive table.\"\n",
              "              style=\"display:none;\">\n",
              "        \n",
              "  <svg xmlns=\"http://www.w3.org/2000/svg\" height=\"24px\"viewBox=\"0 0 24 24\"\n",
              "       width=\"24px\">\n",
              "    <path d=\"M0 0h24v24H0V0z\" fill=\"none\"/>\n",
              "    <path d=\"M18.56 5.44l.94 2.06.94-2.06 2.06-.94-2.06-.94-.94-2.06-.94 2.06-2.06.94zm-11 1L8.5 8.5l.94-2.06 2.06-.94-2.06-.94L8.5 2.5l-.94 2.06-2.06.94zm10 10l.94 2.06.94-2.06 2.06-.94-2.06-.94-.94-2.06-.94 2.06-2.06.94z\"/><path d=\"M17.41 7.96l-1.37-1.37c-.4-.4-.92-.59-1.43-.59-.52 0-1.04.2-1.43.59L10.3 9.45l-7.72 7.72c-.78.78-.78 2.05 0 2.83L4 21.41c.39.39.9.59 1.41.59.51 0 1.02-.2 1.41-.59l7.78-7.78 2.81-2.81c.8-.78.8-2.07 0-2.86zM5.41 20L4 18.59l7.72-7.72 1.47 1.35L5.41 20z\"/>\n",
              "  </svg>\n",
              "      </button>\n",
              "      \n",
              "  <style>\n",
              "    .colab-df-container {\n",
              "      display:flex;\n",
              "      flex-wrap:wrap;\n",
              "      gap: 12px;\n",
              "    }\n",
              "\n",
              "    .colab-df-convert {\n",
              "      background-color: #E8F0FE;\n",
              "      border: none;\n",
              "      border-radius: 50%;\n",
              "      cursor: pointer;\n",
              "      display: none;\n",
              "      fill: #1967D2;\n",
              "      height: 32px;\n",
              "      padding: 0 0 0 0;\n",
              "      width: 32px;\n",
              "    }\n",
              "\n",
              "    .colab-df-convert:hover {\n",
              "      background-color: #E2EBFA;\n",
              "      box-shadow: 0px 1px 2px rgba(60, 64, 67, 0.3), 0px 1px 3px 1px rgba(60, 64, 67, 0.15);\n",
              "      fill: #174EA6;\n",
              "    }\n",
              "\n",
              "    [theme=dark] .colab-df-convert {\n",
              "      background-color: #3B4455;\n",
              "      fill: #D2E3FC;\n",
              "    }\n",
              "\n",
              "    [theme=dark] .colab-df-convert:hover {\n",
              "      background-color: #434B5C;\n",
              "      box-shadow: 0px 1px 3px 1px rgba(0, 0, 0, 0.15);\n",
              "      filter: drop-shadow(0px 1px 2px rgba(0, 0, 0, 0.3));\n",
              "      fill: #FFFFFF;\n",
              "    }\n",
              "  </style>\n",
              "\n",
              "      <script>\n",
              "        const buttonEl =\n",
              "          document.querySelector('#df-e5c1f7e8-97c6-4c76-98a7-02f32bbd4574 button.colab-df-convert');\n",
              "        buttonEl.style.display =\n",
              "          google.colab.kernel.accessAllowed ? 'block' : 'none';\n",
              "\n",
              "        async function convertToInteractive(key) {\n",
              "          const element = document.querySelector('#df-e5c1f7e8-97c6-4c76-98a7-02f32bbd4574');\n",
              "          const dataTable =\n",
              "            await google.colab.kernel.invokeFunction('convertToInteractive',\n",
              "                                                     [key], {});\n",
              "          if (!dataTable) return;\n",
              "\n",
              "          const docLinkHtml = 'Like what you see? Visit the ' +\n",
              "            '<a target=\"_blank\" href=https://colab.research.google.com/notebooks/data_table.ipynb>data table notebook</a>'\n",
              "            + ' to learn more about interactive tables.';\n",
              "          element.innerHTML = '';\n",
              "          dataTable['output_type'] = 'display_data';\n",
              "          await google.colab.output.renderOutput(dataTable, element);\n",
              "          const docLink = document.createElement('div');\n",
              "          docLink.innerHTML = docLinkHtml;\n",
              "          element.appendChild(docLink);\n",
              "        }\n",
              "      </script>\n",
              "    </div>\n",
              "  </div>\n",
              "  "
            ]
          },
          "metadata": {},
          "execution_count": 12
        }
      ]
    }
  ]
}