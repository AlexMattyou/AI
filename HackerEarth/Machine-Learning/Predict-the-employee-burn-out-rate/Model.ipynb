{
  "nbformat": 4,
  "nbformat_minor": 0,
  "metadata": {
    "colab": {
      "provenance": [],
      "authorship_tag": "ABX9TyNrnEC+tD55a1n1RKUHcNuC",
      "include_colab_link": true
    },
    "kernelspec": {
      "name": "python3",
      "display_name": "Python 3"
    },
    "language_info": {
      "name": "python"
    }
  },
  "cells": [
    {
      "cell_type": "markdown",
      "metadata": {
        "id": "view-in-github",
        "colab_type": "text"
      },
      "source": [
        "<a href=\"https://colab.research.google.com/github/AlexMattyou/ProblemSolving/blob/main/HackerEarth/Machine-Learning/Predict-the-employee-burn-out-rate/Model.ipynb\" target=\"_parent\"><img src=\"https://colab.research.google.com/assets/colab-badge.svg\" alt=\"Open In Colab\"/></a>"
      ]
    },
    {
      "cell_type": "code",
      "execution_count": 14,
      "metadata": {
        "id": "2y9SYQtYNkz3"
      },
      "outputs": [],
      "source": [
        "import numpy as np\n",
        "import pandas as pd\n",
        "import matplotlib.pyplot as plt\n",
        "#importing basic modules"
      ]
    },
    {
      "cell_type": "code",
      "source": [
        "#link given train and test data\n",
        "train = pd.read_csv('https://data.alexmattyou.repl.co/db/Predict-the-employee-burn-out-rate/train.csv')\n",
        "test = pd.read_csv('https://data.alexmattyou.repl.co/db/Predict-the-employee-burn-out-rate/test.csv')\n",
        "print(\"The train data has\",train.shape)\n",
        "print(train.info())"
      ],
      "metadata": {
        "id": "FqLH1fgHN03H",
        "colab": {
          "base_uri": "https://localhost:8080/"
        },
        "outputId": "5b522137-eb06-4eac-9e6a-fb19c5f594c4"
      },
      "execution_count": 15,
      "outputs": [
        {
          "output_type": "stream",
          "name": "stdout",
          "text": [
            "The train data has (22750, 9)\n",
            "<class 'pandas.core.frame.DataFrame'>\n",
            "RangeIndex: 22750 entries, 0 to 22749\n",
            "Data columns (total 9 columns):\n",
            " #   Column                Non-Null Count  Dtype  \n",
            "---  ------                --------------  -----  \n",
            " 0   Employee_ID           22750 non-null  object \n",
            " 1   Date_of_Joining       22750 non-null  object \n",
            " 2   Gender                22750 non-null  object \n",
            " 3   Company_Type          22750 non-null  object \n",
            " 4   WFH_Setup_Available   22750 non-null  object \n",
            " 5   Designation           22750 non-null  float64\n",
            " 6   Resource_Allocation   21369 non-null  float64\n",
            " 7   Mental_Fatigue_Score  20633 non-null  float64\n",
            " 8   Burn_Rate             21626 non-null  float64\n",
            "dtypes: float64(4), object(5)\n",
            "memory usage: 1.6+ MB\n",
            "None\n"
          ]
        }
      ]
    },
    {
      "cell_type": "code",
      "source": [
        "train.isnull().sum()\n",
        "# null values are found in 3 features"
      ],
      "metadata": {
        "id": "npGR-39uQEvW",
        "colab": {
          "base_uri": "https://localhost:8080/"
        },
        "outputId": "ab065776-eeda-4933-85b5-f27a5224809c"
      },
      "execution_count": 16,
      "outputs": [
        {
          "output_type": "execute_result",
          "data": {
            "text/plain": [
              "Employee_ID                0\n",
              "Date_of_Joining            0\n",
              "Gender                     0\n",
              "Company_Type               0\n",
              "WFH_Setup_Available        0\n",
              "Designation                0\n",
              "Resource_Allocation     1381\n",
              "Mental_Fatigue_Score    2117\n",
              "Burn_Rate               1124\n",
              "dtype: int64"
            ]
          },
          "metadata": {},
          "execution_count": 16
        }
      ]
    },
    {
      "cell_type": "code",
      "source": [
        "train = train.dropna()\n",
        "# droping them because they contribute more to the Burn_Rate and filling with mean decreasing the corrlation"
      ],
      "metadata": {
        "id": "NZCabJfO6ukT"
      },
      "execution_count": 17,
      "outputs": []
    },
    {
      "cell_type": "code",
      "source": [
        "train.drop(columns=['Employee_ID','Date_of_Joining'],inplace=True)\n",
        "# also droping these, data haven't corrlated much and id is not needed"
      ],
      "metadata": {
        "id": "AyxuQ8xH-kzQ"
      },
      "execution_count": 18,
      "outputs": []
    },
    {
      "cell_type": "code",
      "source": [
        "print(\"The train data has\",train.shape)"
      ],
      "metadata": {
        "id": "3cjpBsh969J0",
        "colab": {
          "base_uri": "https://localhost:8080/"
        },
        "outputId": "d49f8ab9-587d-42cb-fd6a-064895060a92"
      },
      "execution_count": 20,
      "outputs": [
        {
          "output_type": "stream",
          "name": "stdout",
          "text": [
            "The train data has (18590, 7)\n"
          ]
        }
      ]
    },
    {
      "cell_type": "code",
      "source": [
        "for x in train.columns: # class features to encode\n",
        "    if train[x].dtype == 'object':\n",
        "      print(train[x].value_counts())\n",
        "      print()"
      ],
      "metadata": {
        "id": "-S20dl6V-LXi",
        "colab": {
          "base_uri": "https://localhost:8080/"
        },
        "outputId": "9ae5a24b-e86a-4704-cc97-0dc3d1bbbbca"
      },
      "execution_count": 21,
      "outputs": [
        {
          "output_type": "stream",
          "name": "stdout",
          "text": [
            "Female    9747\n",
            "Male      8843\n",
            "Name: Gender, dtype: int64\n",
            "\n",
            "Service    12174\n",
            "Product     6416\n",
            "Name: Company_Type, dtype: int64\n",
            "\n",
            "Yes    10030\n",
            "No      8560\n",
            "Name: WFH_Setup_Available, dtype: int64\n",
            "\n"
          ]
        }
      ]
    },
    {
      "cell_type": "code",
      "source": [
        "from sklearn import preprocessing\n",
        "\n",
        "for x in train.columns: # encoding class lables to int\n",
        "    if train[x].dtype == 'object':\n",
        "        lbl = preprocessing.LabelEncoder()\n",
        "        lbl.fit(list(train[x].values))\n",
        "        train[x] = lbl.transform(list(train[x].values))"
      ],
      "metadata": {
        "id": "WHvLLD4h80D6"
      },
      "execution_count": 22,
      "outputs": []
    },
    {
      "cell_type": "code",
      "source": [
        "train.corr()"
      ],
      "metadata": {
        "colab": {
          "base_uri": "https://localhost:8080/",
          "height": 269
        },
        "id": "IyGnOcri5Uxo",
        "outputId": "8c79534b-89c5-4274-9ec7-423a176f4914"
      },
      "execution_count": 23,
      "outputs": [
        {
          "output_type": "execute_result",
          "data": {
            "text/plain": [
              "                        Gender  Company_Type  WFH_Setup_Available  \\\n",
              "Gender                1.000000     -0.009289            -0.073718   \n",
              "Company_Type         -0.009289      1.000000            -0.000756   \n",
              "WFH_Setup_Available  -0.073718     -0.000756             1.000000   \n",
              "Designation           0.110514      0.008989            -0.231858   \n",
              "Resource_Allocation   0.141089      0.005795            -0.285384   \n",
              "Mental_Fatigue_Score  0.145760      0.004697            -0.277683   \n",
              "Burn_Rate             0.156577      0.005904            -0.307168   \n",
              "\n",
              "                      Designation  Resource_Allocation  Mental_Fatigue_Score  \\\n",
              "Gender                   0.110514             0.141089              0.145760   \n",
              "Company_Type             0.008989             0.005795              0.004697   \n",
              "WFH_Setup_Available     -0.231858            -0.285384             -0.277683   \n",
              "Designation              1.000000             0.877893              0.691823   \n",
              "Resource_Allocation      0.877893             1.000000              0.799563   \n",
              "Mental_Fatigue_Score     0.691823             0.799563              1.000000   \n",
              "Burn_Rate                0.736412             0.855005              0.944389   \n",
              "\n",
              "                      Burn_Rate  \n",
              "Gender                 0.156577  \n",
              "Company_Type           0.005904  \n",
              "WFH_Setup_Available   -0.307168  \n",
              "Designation            0.736412  \n",
              "Resource_Allocation    0.855005  \n",
              "Mental_Fatigue_Score   0.944389  \n",
              "Burn_Rate              1.000000  "
            ],
            "text/html": [
              "\n",
              "  <div id=\"df-b0d8b2d8-9916-4fbf-ab78-a160a9adcd3d\">\n",
              "    <div class=\"colab-df-container\">\n",
              "      <div>\n",
              "<style scoped>\n",
              "    .dataframe tbody tr th:only-of-type {\n",
              "        vertical-align: middle;\n",
              "    }\n",
              "\n",
              "    .dataframe tbody tr th {\n",
              "        vertical-align: top;\n",
              "    }\n",
              "\n",
              "    .dataframe thead th {\n",
              "        text-align: right;\n",
              "    }\n",
              "</style>\n",
              "<table border=\"1\" class=\"dataframe\">\n",
              "  <thead>\n",
              "    <tr style=\"text-align: right;\">\n",
              "      <th></th>\n",
              "      <th>Gender</th>\n",
              "      <th>Company_Type</th>\n",
              "      <th>WFH_Setup_Available</th>\n",
              "      <th>Designation</th>\n",
              "      <th>Resource_Allocation</th>\n",
              "      <th>Mental_Fatigue_Score</th>\n",
              "      <th>Burn_Rate</th>\n",
              "    </tr>\n",
              "  </thead>\n",
              "  <tbody>\n",
              "    <tr>\n",
              "      <th>Gender</th>\n",
              "      <td>1.000000</td>\n",
              "      <td>-0.009289</td>\n",
              "      <td>-0.073718</td>\n",
              "      <td>0.110514</td>\n",
              "      <td>0.141089</td>\n",
              "      <td>0.145760</td>\n",
              "      <td>0.156577</td>\n",
              "    </tr>\n",
              "    <tr>\n",
              "      <th>Company_Type</th>\n",
              "      <td>-0.009289</td>\n",
              "      <td>1.000000</td>\n",
              "      <td>-0.000756</td>\n",
              "      <td>0.008989</td>\n",
              "      <td>0.005795</td>\n",
              "      <td>0.004697</td>\n",
              "      <td>0.005904</td>\n",
              "    </tr>\n",
              "    <tr>\n",
              "      <th>WFH_Setup_Available</th>\n",
              "      <td>-0.073718</td>\n",
              "      <td>-0.000756</td>\n",
              "      <td>1.000000</td>\n",
              "      <td>-0.231858</td>\n",
              "      <td>-0.285384</td>\n",
              "      <td>-0.277683</td>\n",
              "      <td>-0.307168</td>\n",
              "    </tr>\n",
              "    <tr>\n",
              "      <th>Designation</th>\n",
              "      <td>0.110514</td>\n",
              "      <td>0.008989</td>\n",
              "      <td>-0.231858</td>\n",
              "      <td>1.000000</td>\n",
              "      <td>0.877893</td>\n",
              "      <td>0.691823</td>\n",
              "      <td>0.736412</td>\n",
              "    </tr>\n",
              "    <tr>\n",
              "      <th>Resource_Allocation</th>\n",
              "      <td>0.141089</td>\n",
              "      <td>0.005795</td>\n",
              "      <td>-0.285384</td>\n",
              "      <td>0.877893</td>\n",
              "      <td>1.000000</td>\n",
              "      <td>0.799563</td>\n",
              "      <td>0.855005</td>\n",
              "    </tr>\n",
              "    <tr>\n",
              "      <th>Mental_Fatigue_Score</th>\n",
              "      <td>0.145760</td>\n",
              "      <td>0.004697</td>\n",
              "      <td>-0.277683</td>\n",
              "      <td>0.691823</td>\n",
              "      <td>0.799563</td>\n",
              "      <td>1.000000</td>\n",
              "      <td>0.944389</td>\n",
              "    </tr>\n",
              "    <tr>\n",
              "      <th>Burn_Rate</th>\n",
              "      <td>0.156577</td>\n",
              "      <td>0.005904</td>\n",
              "      <td>-0.307168</td>\n",
              "      <td>0.736412</td>\n",
              "      <td>0.855005</td>\n",
              "      <td>0.944389</td>\n",
              "      <td>1.000000</td>\n",
              "    </tr>\n",
              "  </tbody>\n",
              "</table>\n",
              "</div>\n",
              "      <button class=\"colab-df-convert\" onclick=\"convertToInteractive('df-b0d8b2d8-9916-4fbf-ab78-a160a9adcd3d')\"\n",
              "              title=\"Convert this dataframe to an interactive table.\"\n",
              "              style=\"display:none;\">\n",
              "        \n",
              "  <svg xmlns=\"http://www.w3.org/2000/svg\" height=\"24px\"viewBox=\"0 0 24 24\"\n",
              "       width=\"24px\">\n",
              "    <path d=\"M0 0h24v24H0V0z\" fill=\"none\"/>\n",
              "    <path d=\"M18.56 5.44l.94 2.06.94-2.06 2.06-.94-2.06-.94-.94-2.06-.94 2.06-2.06.94zm-11 1L8.5 8.5l.94-2.06 2.06-.94-2.06-.94L8.5 2.5l-.94 2.06-2.06.94zm10 10l.94 2.06.94-2.06 2.06-.94-2.06-.94-.94-2.06-.94 2.06-2.06.94z\"/><path d=\"M17.41 7.96l-1.37-1.37c-.4-.4-.92-.59-1.43-.59-.52 0-1.04.2-1.43.59L10.3 9.45l-7.72 7.72c-.78.78-.78 2.05 0 2.83L4 21.41c.39.39.9.59 1.41.59.51 0 1.02-.2 1.41-.59l7.78-7.78 2.81-2.81c.8-.78.8-2.07 0-2.86zM5.41 20L4 18.59l7.72-7.72 1.47 1.35L5.41 20z\"/>\n",
              "  </svg>\n",
              "      </button>\n",
              "      \n",
              "  <style>\n",
              "    .colab-df-container {\n",
              "      display:flex;\n",
              "      flex-wrap:wrap;\n",
              "      gap: 12px;\n",
              "    }\n",
              "\n",
              "    .colab-df-convert {\n",
              "      background-color: #E8F0FE;\n",
              "      border: none;\n",
              "      border-radius: 50%;\n",
              "      cursor: pointer;\n",
              "      display: none;\n",
              "      fill: #1967D2;\n",
              "      height: 32px;\n",
              "      padding: 0 0 0 0;\n",
              "      width: 32px;\n",
              "    }\n",
              "\n",
              "    .colab-df-convert:hover {\n",
              "      background-color: #E2EBFA;\n",
              "      box-shadow: 0px 1px 2px rgba(60, 64, 67, 0.3), 0px 1px 3px 1px rgba(60, 64, 67, 0.15);\n",
              "      fill: #174EA6;\n",
              "    }\n",
              "\n",
              "    [theme=dark] .colab-df-convert {\n",
              "      background-color: #3B4455;\n",
              "      fill: #D2E3FC;\n",
              "    }\n",
              "\n",
              "    [theme=dark] .colab-df-convert:hover {\n",
              "      background-color: #434B5C;\n",
              "      box-shadow: 0px 1px 3px 1px rgba(0, 0, 0, 0.15);\n",
              "      filter: drop-shadow(0px 1px 2px rgba(0, 0, 0, 0.3));\n",
              "      fill: #FFFFFF;\n",
              "    }\n",
              "  </style>\n",
              "\n",
              "      <script>\n",
              "        const buttonEl =\n",
              "          document.querySelector('#df-b0d8b2d8-9916-4fbf-ab78-a160a9adcd3d button.colab-df-convert');\n",
              "        buttonEl.style.display =\n",
              "          google.colab.kernel.accessAllowed ? 'block' : 'none';\n",
              "\n",
              "        async function convertToInteractive(key) {\n",
              "          const element = document.querySelector('#df-b0d8b2d8-9916-4fbf-ab78-a160a9adcd3d');\n",
              "          const dataTable =\n",
              "            await google.colab.kernel.invokeFunction('convertToInteractive',\n",
              "                                                     [key], {});\n",
              "          if (!dataTable) return;\n",
              "\n",
              "          const docLinkHtml = 'Like what you see? Visit the ' +\n",
              "            '<a target=\"_blank\" href=https://colab.research.google.com/notebooks/data_table.ipynb>data table notebook</a>'\n",
              "            + ' to learn more about interactive tables.';\n",
              "          element.innerHTML = '';\n",
              "          dataTable['output_type'] = 'display_data';\n",
              "          await google.colab.output.renderOutput(dataTable, element);\n",
              "          const docLink = document.createElement('div');\n",
              "          docLink.innerHTML = docLinkHtml;\n",
              "          element.appendChild(docLink);\n",
              "        }\n",
              "      </script>\n",
              "    </div>\n",
              "  </div>\n",
              "  "
            ]
          },
          "metadata": {},
          "execution_count": 23
        }
      ]
    },
    {
      "cell_type": "code",
      "source": [
        "# removing least corrlated features to Burn_Rate\n",
        "train.drop(columns=['Company_Type','Gender','WFH_Setup_Available'],inplace=True)"
      ],
      "metadata": {
        "id": "gSh9LrNbCb3U"
      },
      "execution_count": 24,
      "outputs": []
    },
    {
      "cell_type": "code",
      "source": [
        "# Time to train the model\n",
        "y = train['Burn_Rate']\n",
        "del train['Burn_Rate']\n",
        "x = train\n",
        "# train test split\n",
        "from sklearn.model_selection import train_test_split\n",
        "x_train,x_test,y_train,y_test = train_test_split(x,y,test_size=0.25,random_state=1)"
      ],
      "metadata": {
        "id": "9R6vJaVIabTh"
      },
      "execution_count": 25,
      "outputs": []
    },
    {
      "cell_type": "code",
      "source": [
        "# using Random Forest Regressor\n",
        "from sklearn.ensemble import RandomForestRegressor\n",
        "alg = RandomForestRegressor(n_estimators = 86, random_state = 6)\n",
        "alg.fit(x, y);\n",
        "\n",
        "y_predicted = alg.predict(x_test) # trained model\n",
        "fig, ax = plt.subplots()\n",
        "ax.scatter(y_predicted, y_test, edgecolors=(0, 0, 1))\n",
        "ax.plot([y_test.min(), y_test.max()], [y_test.min(), y_test.max()], 'r--', lw=3)\n",
        "ax.set_xlabel('Predicted')\n",
        "ax.set_ylabel('Actual')\n",
        "plt.show()"
      ],
      "metadata": {
        "colab": {
          "base_uri": "https://localhost:8080/",
          "height": 279
        },
        "id": "DbJjcoQSeOmZ",
        "outputId": "2ac6b200-0cfa-4933-a514-e83361b743e5"
      },
      "execution_count": 26,
      "outputs": [
        {
          "output_type": "display_data",
          "data": {
            "text/plain": [
              "<Figure size 432x288 with 1 Axes>"
            ],
            "image/png": "[encoded data removed]"
          },
          "metadata": {
            "needs_background": "light"
          }
        }
      ]
    },
    {
      "cell_type": "code",
      "source": [
        "from sklearn import metrics\n",
        "mae = metrics.mean_absolute_error(y_test, y_predicted)\n",
        "mse = metrics.mean_squared_error(y_test, y_predicted)\n",
        "r2 = metrics.r2_score(y_test, y_predicted)\n",
        "\n",
        "print(\"The model performance for testing set\\n--------------------------------------\")\n",
        "print('MAE is {}'.format(mae))\n",
        "print('MSE is {}'.format(mse))\n",
        "print('R2 score is {}'.format(r2)) # got 93.21% of accuracy\n",
        "# good but not best"
      ],
      "metadata": {
        "colab": {
          "base_uri": "https://localhost:8080/"
        },
        "id": "kdBcCr3ghAtN",
        "outputId": "ee017486-e8fc-4519-a7bf-87c69e0f908e"
      },
      "execution_count": 28,
      "outputs": [
        {
          "output_type": "stream",
          "name": "stdout",
          "text": [
            "The model performance for testing set\n",
            "--------------------------------------\n",
            "MAE is 0.0413215951619409\n",
            "MSE is 0.0026577792237825735\n",
            "R2 score is 0.9321647026138368\n"
          ]
        }
      ]
    },
    {
      "cell_type": "code",
      "source": [
        "# gonna find out values for test\n",
        "print(\"The test data has\",test.shape)\n",
        "print(test.isnull().sum())"
      ],
      "metadata": {
        "colab": {
          "base_uri": "https://localhost:8080/"
        },
        "id": "ARZ2y2LG1AfE",
        "outputId": "1fdff079-1b82-4806-915b-8dae2a3ab1d5"
      },
      "execution_count": 29,
      "outputs": [
        {
          "output_type": "stream",
          "name": "stdout",
          "text": [
            "The test data has (12250, 8)\n",
            "Employee_ID             0\n",
            "Date_of_Joining         0\n",
            "Gender                  0\n",
            "Company_Type            0\n",
            "WFH_Setup_Available     0\n",
            "Designation             0\n",
            "Resource_Allocation     0\n",
            "Mental_Fatigue_Score    0\n",
            "dtype: int64\n"
          ]
        }
      ]
    },
    {
      "cell_type": "code",
      "source": [
        "id = pd.DataFrame(test.Employee_ID.copy()) # extracting id\n",
        "\n",
        "test.drop(columns=['Company_Type','Gender','WFH_Setup_Available','Employee_ID','Date_of_Joining'],inplace=True)\n",
        "\n",
        "for x in test.columns: # encoding\n",
        "    if test[x].dtype == 'object':\n",
        "        lbl = preprocessing.LabelEncoder()\n",
        "        lbl.fit(list(test[x].values))\n",
        "        test[x] = lbl.transform(list(test[x].values))"
      ],
      "metadata": {
        "id": "t6oCh5UfSLKk"
      },
      "execution_count": 30,
      "outputs": []
    },
    {
      "cell_type": "code",
      "source": [
        "Burn_Rate = pd.DataFrame(alg.predict(test))\n",
        "#applying the model for test dataset to predict Burn_Rate\n",
        "\n",
        "#merge id and target for submition\n",
        "output = pd.concat([id, Burn_Rate], axis=1)\n",
        "output.column = ['Employee ID','Burn Rate']\n",
        "output"
      ],
      "metadata": {
        "colab": {
          "base_uri": "https://localhost:8080/",
          "height": 478
        },
        "id": "zbmIFS9_iplv",
        "outputId": "121b83ad-1b2f-4d31-8943-e7f049033d46"
      },
      "execution_count": 31,
      "outputs": [
        {
          "output_type": "stream",
          "name": "stderr",
          "text": [
            "<ipython-input-31-09045212db84>:6: UserWarning: Pandas doesn't allow columns to be created via a new attribute name - see https://pandas.pydata.org/pandas-docs/stable/indexing.html#attribute-access\n",
            "  output.column = ['Employee ID','Burn Rate']\n"
          ]
        },
        {
          "output_type": "execute_result",
          "data": {
            "text/plain": [
              "                    Employee_ID         0\n",
              "0      fffe31003300390039003000  0.603476\n",
              "1      fffe31003300310037003800  0.365590\n",
              "2      fffe33003400380035003900  0.425097\n",
              "3          fffe3100370039003200  0.379048\n",
              "4      fffe32003600390036003700  0.518630\n",
              "...                         ...       ...\n",
              "12245      fffe3900310034003700  0.411642\n",
              "12246  fffe32003600330034003000  0.440025\n",
              "12247  fffe31003800340039003000  0.831178\n",
              "12248  fffe32003600380031003800  0.558373\n",
              "12249  fffe32003100390037003800  0.126718\n",
              "\n",
              "[12250 rows x 2 columns]"
            ],
            "text/html": [
              "\n",
              "  <div id=\"df-f693a902-979c-4daa-84c6-44ed466a49a1\">\n",
              "    <div class=\"colab-df-container\">\n",
              "      <div>\n",
              "<style scoped>\n",
              "    .dataframe tbody tr th:only-of-type {\n",
              "        vertical-align: middle;\n",
              "    }\n",
              "\n",
              "    .dataframe tbody tr th {\n",
              "        vertical-align: top;\n",
              "    }\n",
              "\n",
              "    .dataframe thead th {\n",
              "        text-align: right;\n",
              "    }\n",
              "</style>\n",
              "<table border=\"1\" class=\"dataframe\">\n",
              "  <thead>\n",
              "    <tr style=\"text-align: right;\">\n",
              "      <th></th>\n",
              "      <th>Employee_ID</th>\n",
              "      <th>0</th>\n",
              "    </tr>\n",
              "  </thead>\n",
              "  <tbody>\n",
              "    <tr>\n",
              "      <th>0</th>\n",
              "      <td>fffe31003300390039003000</td>\n",
              "      <td>0.603476</td>\n",
              "    </tr>\n",
              "    <tr>\n",
              "      <th>1</th>\n",
              "      <td>fffe31003300310037003800</td>\n",
              "      <td>0.365590</td>\n",
              "    </tr>\n",
              "    <tr>\n",
              "      <th>2</th>\n",
              "      <td>fffe33003400380035003900</td>\n",
              "      <td>0.425097</td>\n",
              "    </tr>\n",
              "    <tr>\n",
              "      <th>3</th>\n",
              "      <td>fffe3100370039003200</td>\n",
              "      <td>0.379048</td>\n",
              "    </tr>\n",
              "    <tr>\n",
              "      <th>4</th>\n",
              "      <td>fffe32003600390036003700</td>\n",
              "      <td>0.518630</td>\n",
              "    </tr>\n",
              "    <tr>\n",
              "      <th>...</th>\n",
              "      <td>...</td>\n",
              "      <td>...</td>\n",
              "    </tr>\n",
              "    <tr>\n",
              "      <th>12245</th>\n",
              "      <td>fffe3900310034003700</td>\n",
              "      <td>0.411642</td>\n",
              "    </tr>\n",
              "    <tr>\n",
              "      <th>12246</th>\n",
              "      <td>fffe32003600330034003000</td>\n",
              "      <td>0.440025</td>\n",
              "    </tr>\n",
              "    <tr>\n",
              "      <th>12247</th>\n",
              "      <td>fffe31003800340039003000</td>\n",
              "      <td>0.831178</td>\n",
              "    </tr>\n",
              "    <tr>\n",
              "      <th>12248</th>\n",
              "      <td>fffe32003600380031003800</td>\n",
              "      <td>0.558373</td>\n",
              "    </tr>\n",
              "    <tr>\n",
              "      <th>12249</th>\n",
              "      <td>fffe32003100390037003800</td>\n",
              "      <td>0.126718</td>\n",
              "    </tr>\n",
              "  </tbody>\n",
              "</table>\n",
              "<p>12250 rows × 2 columns</p>\n",
              "</div>\n",
              "      <button class=\"colab-df-convert\" onclick=\"convertToInteractive('df-f693a902-979c-4daa-84c6-44ed466a49a1')\"\n",
              "              title=\"Convert this dataframe to an interactive table.\"\n",
              "              style=\"display:none;\">\n",
              "        \n",
              "  <svg xmlns=\"http://www.w3.org/2000/svg\" height=\"24px\"viewBox=\"0 0 24 24\"\n",
              "       width=\"24px\">\n",
              "    <path d=\"M0 0h24v24H0V0z\" fill=\"none\"/>\n",
              "    <path d=\"M18.56 5.44l.94 2.06.94-2.06 2.06-.94-2.06-.94-.94-2.06-.94 2.06-2.06.94zm-11 1L8.5 8.5l.94-2.06 2.06-.94-2.06-.94L8.5 2.5l-.94 2.06-2.06.94zm10 10l.94 2.06.94-2.06 2.06-.94-2.06-.94-.94-2.06-.94 2.06-2.06.94z\"/><path d=\"M17.41 7.96l-1.37-1.37c-.4-.4-.92-.59-1.43-.59-.52 0-1.04.2-1.43.59L10.3 9.45l-7.72 7.72c-.78.78-.78 2.05 0 2.83L4 21.41c.39.39.9.59 1.41.59.51 0 1.02-.2 1.41-.59l7.78-7.78 2.81-2.81c.8-.78.8-2.07 0-2.86zM5.41 20L4 18.59l7.72-7.72 1.47 1.35L5.41 20z\"/>\n",
              "  </svg>\n",
              "      </button>\n",
              "      \n",
              "  <style>\n",
              "    .colab-df-container {\n",
              "      display:flex;\n",
              "      flex-wrap:wrap;\n",
              "      gap: 12px;\n",
              "    }\n",
              "\n",
              "    .colab-df-convert {\n",
              "      background-color: #E8F0FE;\n",
              "      border: none;\n",
              "      border-radius: 50%;\n",
              "      cursor: pointer;\n",
              "      display: none;\n",
              "      fill: #1967D2;\n",
              "      height: 32px;\n",
              "      padding: 0 0 0 0;\n",
              "      width: 32px;\n",
              "    }\n",
              "\n",
              "    .colab-df-convert:hover {\n",
              "      background-color: #E2EBFA;\n",
              "      box-shadow: 0px 1px 2px rgba(60, 64, 67, 0.3), 0px 1px 3px 1px rgba(60, 64, 67, 0.15);\n",
              "      fill: #174EA6;\n",
              "    }\n",
              "\n",
              "    [theme=dark] .colab-df-convert {\n",
              "      background-color: #3B4455;\n",
              "      fill: #D2E3FC;\n",
              "    }\n",
              "\n",
              "    [theme=dark] .colab-df-convert:hover {\n",
              "      background-color: #434B5C;\n",
              "      box-shadow: 0px 1px 3px 1px rgba(0, 0, 0, 0.15);\n",
              "      filter: drop-shadow(0px 1px 2px rgba(0, 0, 0, 0.3));\n",
              "      fill: #FFFFFF;\n",
              "    }\n",
              "  </style>\n",
              "\n",
              "      <script>\n",
              "        const buttonEl =\n",
              "          document.querySelector('#df-f693a902-979c-4daa-84c6-44ed466a49a1 button.colab-df-convert');\n",
              "        buttonEl.style.display =\n",
              "          google.colab.kernel.accessAllowed ? 'block' : 'none';\n",
              "\n",
              "        async function convertToInteractive(key) {\n",
              "          const element = document.querySelector('#df-f693a902-979c-4daa-84c6-44ed466a49a1');\n",
              "          const dataTable =\n",
              "            await google.colab.kernel.invokeFunction('convertToInteractive',\n",
              "                                                     [key], {});\n",
              "          if (!dataTable) return;\n",
              "\n",
              "          const docLinkHtml = 'Like what you see? Visit the ' +\n",
              "            '<a target=\"_blank\" href=https://colab.research.google.com/notebooks/data_table.ipynb>data table notebook</a>'\n",
              "            + ' to learn more about interactive tables.';\n",
              "          element.innerHTML = '';\n",
              "          dataTable['output_type'] = 'display_data';\n",
              "          await google.colab.output.renderOutput(dataTable, element);\n",
              "          const docLink = document.createElement('div');\n",
              "          docLink.innerHTML = docLinkHtml;\n",
              "          element.appendChild(docLink);\n",
              "        }\n",
              "      </script>\n",
              "    </div>\n",
              "  </div>\n",
              "  "
            ]
          },
          "metadata": {},
          "execution_count": 31
        }
      ]
    }
  ]
}